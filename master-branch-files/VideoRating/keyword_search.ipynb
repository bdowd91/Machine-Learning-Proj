{
 "cells": [
  {
   "cell_type": "code",
   "execution_count": null,
   "metadata": {},
   "outputs": [],
   "source": [
    "import pandas as pd\n",
    "import numpy as np\n",
    "from surprise import Dataset\n",
    "\n",
    "#plug in actual data\n",
    "uploaded = Dataset.load_builtin(\"ml-100k\")\n",
    "\n",
    "#need file names\n",
    "credits = pd.read_csv(\"uploaded\")\n",
    "\n",
    "movies_incomplete = pd.read_csv(\"uploaded\")\n",
    "\n",
    "# Shapes of dataframes\n",
    "print(\"credits:\", credits.shape)\n",
    "print(\"movies_incomplete:\", movies_incomplete.shape)"
   ]
  },
  {
   "cell_type": "code",
   "execution_count": null,
   "metadata": {},
   "outputs": [],
   "source": [
    "V = movies_clean['vote_count']\n",
    "R = movies_clean['vote_average']\n",
    "C = movies_clean['vote_average'].mean()\n",
    "m = movies_clean['vote_count'].quantile(0.70)\n",
    "\n",
    "movies_clean['weighted_average'] = (V/(V+m) * R) + (m/(m+V) * C)"
   ]
  },
  {
   "cell_type": "code",
   "execution_count": null,
   "metadata": {},
   "outputs": [],
   "source": [
    "#weighted averages\n",
    "import matplotlib.pyplot as plt\n",
    "import seaborn as sns\n",
    "\n",
    "wavg = movies_ranked.sort_values('weighted_average', ascending=False)\n",
    "\n",
    "plt.figure(figsize=(16,6))\n",
    "\n",
    "ax = sns.barplot(x=wavg['weighted_average'].head(10), y=wavg['original_title'].head(10), data=wavg, palette='deep')\n",
    "\n",
    "plt.xlim(6.75, 8.35)\n",
    "plt.title('\"Best\" Movies by MovieLens Scores', weight='bold')\n",
    "plt.xlabel('Weighted Average Score', weight='bold')\n",
    "plt.ylabel('Movie Title', weight='bold')\n",
    "\n",
    "plt.savefig('best_movies.png')"
   ]
  },
  {
   "cell_type": "code",
   "execution_count": null,
   "metadata": {},
   "outputs": [],
   "source": [
    "#Would base recommendations just based on straight up popularity\n",
    "popular = movies_ranked.sort_values('popularity', ascending=False)\n",
    "\n",
    "plt.figure(figsize=(16,6))\n",
    "\n",
    "ax = sns.barplot(x=popular['popularity'].head(10), y=popular['original_title'].head(10), data=popular, palette='deep')\n",
    "\n",
    "#plot of 10 most popular\n",
    "plt.title('\"Most Popular\" Movies by MovieLens votes', weight='bold')\n",
    "plt.xlabel('Popularity Score', weight='bold')\n",
    "plt.ylabel('Movie Title', weight='bold')\n",
    "\n",
    "plt.savefig('popular_movies.png')"
   ]
  },
  {
   "cell_type": "code",
   "execution_count": null,
   "metadata": {},
   "outputs": [],
   "source": [
    "# half/half recommendation based on scaled weighted average & popularity score\n",
    "\n",
    "from sklearn import preprocessing\n",
    "\n",
    "min_max_scaler = preprocessing.MinMaxScaler()\n",
    "movies_scaled = min_max_scaler.fit_transform(movies_clean[['weighted_average', 'popularity']])\n",
    "movies_norm = pd.DataFrame(movies_scaled, columns=['weighted_average', 'popularity'])\n",
    "movies_norm.head()\n",
    "\n",
    "movies_clean[['norm_weighted_average', 'norm_popularity']] = movies_norm\n",
    "\n",
    "movies_clean['score'] = movies_clean['norm_weighted_average'] * 0.5 + movies_clean['norm_popularity'] * 0.5\n",
    "movies_scored = movies_clean.sort_values(['score'], ascending=False)\n",
    "movies_scored[['original_title', 'norm_weighted_average', 'norm_popularity', 'score']].head(20)"
   ]
  },
  {
   "cell_type": "code",
   "execution_count": null,
   "metadata": {},
   "outputs": [],
   "source": [
    "#plot of recommended\n",
    "scored = movies_clean.sort_values('score', ascending=False)\n",
    "\n",
    "plt.figure(figsize=(16,6))\n",
    "\n",
    "ax = sns.barplot(x=scored['score'].head(10), y=scored['original_title'].head(10), data=scored, palette='deep')\n",
    "\n",
    "#plt.xlim(3.55, 5.25)\n",
    "plt.title('Best Rated & Most Popular Blend', weight='bold')\n",
    "plt.xlabel('Score', weight='bold')\n",
    "plt.ylabel('Movie Title', weight='bold')\n",
    "\n",
    "plt.savefig('scored_movies.png')"
   ]
  },
  {
   "cell_type": "code",
   "execution_count": null,
   "metadata": {},
   "outputs": [],
   "source": [
    "#using sklearn for keyword program\n",
    "\n",
    "from sklearn.feature_extraction.text import TfidfVectorizer\n",
    "\n",
    "# Using Abhishek Thakur's arguments for TF-IDF\n",
    "tfv = TfidfVectorizer(min_df=3,  max_features=None, \n",
    "            strip_accents='unicode', analyzer='word',token_pattern=r'\\w{1,}',\n",
    "            ngram_range=(1, 3), use_idf=1,smooth_idf=1,sublinear_tf=1,\n",
    "            stop_words = 'english')\n",
    "\n",
    "# Filling NaNs with empty string\n",
    "movies_clean['keywords'] = movies_clean['keywords'].fillna('')\n",
    "\n",
    "# Fitting the TF-IDF on the 'overview' text\n",
    "tfv_matrix = tfv.fit_transform(movies_clean['keywords'])\n",
    "\n",
    "tfv_matrix.shape"
   ]
  },
  {
   "cell_type": "code",
   "execution_count": null,
   "metadata": {},
   "outputs": [],
   "source": [
    "#take keywords from entered movies and compare them to other keywords to match and then return highest rated\n",
    "\n",
    "indices = pd.Series(movies_clean.index, index=movies_clean['original_title']).drop_duplicates()\n",
    "\n",
    "# Credit to Ibtesam Ahmed for the skeleton code\n",
    "def give_rec(title, sig=sig):\n",
    "    # Get the index corresponding to original_title\n",
    "    idx = indices[title]\n",
    "\n",
    "    # Get the pairwsie similarity scores \n",
    "    sig_scores = list(enumerate(sig[idx]))\n",
    "\n",
    "    # Sort the movies \n",
    "    sig_scores = sorted(sig_scores, key=lambda x: x[1], reverse=True)\n",
    "\n",
    "    # Scores of the 10 most similar movies\n",
    "    sig_scores = sig_scores[1:11]\n",
    "\n",
    "    # Movie indices\n",
    "    movie_indices = [i[0] for i in sig_scores]\n",
    "\n",
    "    # Top 10 most similar movies\n",
    "    return movies_clean['movie_name'].iloc[movie_indices]"
   ]
  },
  {
   "cell_type": "code",
   "execution_count": null,
   "metadata": {},
   "outputs": [],
   "source": [
    "#need code to plug typing into html and pull entered data from html"
   ]
  },
  {
   "cell_type": "code",
   "execution_count": null,
   "metadata": {},
   "outputs": [],
   "source": [
    "#run for movie name and give return\n",
    "\n",
    "give_rec('MOVIE_NAME')"
   ]
  }
 ],
 "metadata": {
  "kernelspec": {
   "display_name": "Python 3",
   "language": "python",
   "name": "python3"
  },
  "language_info": {
   "codemirror_mode": {
    "name": "ipython",
    "version": 3
   },
   "file_extension": ".py",
   "mimetype": "text/x-python",
   "name": "python",
   "nbconvert_exporter": "python",
   "pygments_lexer": "ipython3",
   "version": "3.6.9"
  }
 },
 "nbformat": 4,
 "nbformat_minor": 2
}
